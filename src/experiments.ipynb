{
 "cells": [
  {
   "cell_type": "code",
   "execution_count": 27,
   "id": "initial_id",
   "metadata": {
    "collapsed": true,
    "ExecuteTime": {
     "end_time": "2024-03-14T15:53:07.319526Z",
     "start_time": "2024-03-14T15:53:07.311039Z"
    }
   },
   "outputs": [],
   "source": [
    "import ray\n",
    "import random\n",
    "import time\n",
    "import math\n",
    "from fractions import Fraction\n",
    "\n",
    "\n",
    "# Initialize Ray\n",
    "if ray.is_initialized():\n",
    "    ray.shutdown()\n",
    "# context = ray.init(dashboard_host=\"0.0.0.0\", include_dashboard=True)\n",
    "# context.dashboard_url"
   ]
  },
  {
   "cell_type": "code",
   "outputs": [
    {
     "data": {
      "text/plain": "{'memory': 7543000269.0,\n 'CPU': 8.0,\n 'object_store_memory': 2147483648.0,\n 'node:__internal_head__': 1.0,\n 'node:127.0.0.1': 1.0}"
     },
     "execution_count": 12,
     "metadata": {},
     "output_type": "execute_result"
    }
   ],
   "source": [
    "ray.cluster_resources()"
   ],
   "metadata": {
    "collapsed": false,
    "ExecuteTime": {
     "end_time": "2024-03-14T14:37:31.344867Z",
     "start_time": "2024-03-14T14:37:31.340387Z"
    }
   },
   "id": "f82a9d09568474ef",
   "execution_count": 12
  },
  {
   "cell_type": "code",
   "outputs": [],
   "source": [
    "import time\n",
    "\n",
    "database = [\n",
    "    \"Learning\", \"Ray\",\n",
    "    \"Flexible\", \"Distributed\", \"Python\", \"for\", \"Machine\", \"Learning\"\n",
    "]\n",
    "\n",
    "\n",
    "def retrieve(item):\n",
    "    time.sleep(item / 10.)\n",
    "    return item, database[item]"
   ],
   "metadata": {
    "collapsed": false,
    "ExecuteTime": {
     "end_time": "2024-03-14T14:29:01.201935Z",
     "start_time": "2024-03-14T14:29:01.199664Z"
    }
   },
   "id": "f2a2de6fb05e02c3",
   "execution_count": 3
  },
  {
   "cell_type": "markdown",
   "source": [
    "# # Basic Example"
   ],
   "metadata": {
    "collapsed": false
   },
   "id": "7dc85e08daf16e52"
  },
  {
   "cell_type": "code",
   "outputs": [
    {
     "name": "stdout",
     "output_type": "stream",
     "text": [
      "Runtime: 2.82 seconds, data:\n",
      "(0, 'Learning')\n",
      "(1, 'Ray')\n",
      "(2, 'Flexible')\n",
      "(3, 'Distributed')\n",
      "(4, 'Python')\n",
      "(5, 'for')\n",
      "(6, 'Machine')\n",
      "(7, 'Learning')\n"
     ]
    }
   ],
   "source": [
    "def print_runtime(input_data, start_time):\n",
    "    print(f'Runtime: {time.time() - start_time:.2f} seconds, data:')\n",
    "    print(*input_data, sep=\"\\n\")\n",
    "\n",
    "\n",
    "start = time.time()\n",
    "data = [retrieve(item) for item in range(8)]\n",
    "print_runtime(data, start)"
   ],
   "metadata": {
    "collapsed": false,
    "ExecuteTime": {
     "end_time": "2024-03-14T14:29:04.028613Z",
     "start_time": "2024-03-14T14:29:01.202769Z"
    }
   },
   "id": "bd5dc0af43b9cba1",
   "execution_count": 4
  },
  {
   "cell_type": "markdown",
   "source": [
    "# # Parallelism"
   ],
   "metadata": {
    "collapsed": false
   },
   "id": "520a4a1217b88421"
  },
  {
   "cell_type": "code",
   "outputs": [
    {
     "name": "stdout",
     "output_type": "stream",
     "text": [
      "Runtime: 1.24 seconds, data:\n",
      "(0, 'Learning')\n",
      "(1, 'Ray')\n",
      "(2, 'Flexible')\n",
      "(3, 'Distributed')\n",
      "(4, 'Python')\n",
      "(5, 'for')\n",
      "(6, 'Machine')\n",
      "(7, 'Learning')\n"
     ]
    }
   ],
   "source": [
    "import ray \n",
    "\n",
    "\n",
    "@ray.remote\n",
    "def retrieve_task(item):\n",
    "    return retrieve(item)\n",
    "\n",
    "start = time.time()\n",
    "object_references = [\n",
    "    retrieve_task.remote(item) for item in range(8)\n",
    "]\n",
    "data = ray.get(object_references)\n",
    "print_runtime(data, start)"
   ],
   "metadata": {
    "collapsed": false,
    "ExecuteTime": {
     "end_time": "2024-03-14T14:29:05.271201Z",
     "start_time": "2024-03-14T14:29:04.030374Z"
    }
   },
   "id": "ba94490f9e8fc782",
   "execution_count": 5
  },
  {
   "cell_type": "markdown",
   "source": [
    "# # With Object Stores"
   ],
   "metadata": {
    "collapsed": false
   },
   "id": "c694365370816b0"
  },
  {
   "cell_type": "code",
   "outputs": [
    {
     "name": "stdout",
     "output_type": "stream",
     "text": [
      "Runtime: 0.71 seconds, data:\n",
      "(0, 'Learning')\n",
      "(1, 'Ray')\n",
      "(2, 'Flexible')\n",
      "(3, 'Distributed')\n",
      "(4, 'Python')\n",
      "(5, 'for')\n",
      "(6, 'Machine')\n",
      "(7, 'Learning')\n"
     ]
    }
   ],
   "source": [
    "db_object_ref = ray.put(database)\n",
    "\n",
    "\n",
    "@ray.remote\n",
    "def retrieve_task(item, db):\n",
    "    time.sleep(item / 10.)\n",
    "    return item, db[item]\n",
    "\n",
    "\n",
    "start = time.time()\n",
    "object_references = [\n",
    "    retrieve_task.remote(item, db_object_ref) for item in range(8)\n",
    "]\n",
    "data = ray.get(object_references)\n",
    "print_runtime(data, start)\n",
    "\n"
   ],
   "metadata": {
    "collapsed": false,
    "ExecuteTime": {
     "end_time": "2024-03-14T14:29:05.988816Z",
     "start_time": "2024-03-14T14:29:05.272924Z"
    }
   },
   "id": "b5fff8b3165bd55a",
   "execution_count": 6
  },
  {
   "cell_type": "markdown",
   "source": [
    "# # Non-blocking calls"
   ],
   "metadata": {
    "collapsed": false
   },
   "id": "defca054eb903295"
  },
  {
   "cell_type": "code",
   "outputs": [
    {
     "name": "stdout",
     "output_type": "stream",
     "text": [
      "Runtime: 0.04 seconds, data:\n",
      "(0, 'Learning')\n",
      "Runtime: 0.14 seconds, data:\n",
      "(1, 'Ray')\n",
      "Runtime: 0.25 seconds, data:\n",
      "(2, 'Flexible')\n",
      "Runtime: 0.35 seconds, data:\n",
      "(3, 'Distributed')\n",
      "Runtime: 0.44 seconds, data:\n",
      "(4, 'Python')\n",
      "Runtime: 0.54 seconds, data:\n",
      "(5, 'for')\n",
      "Runtime: 0.64 seconds, data:\n",
      "(6, 'Machine')\n",
      "Runtime: 0.75 seconds, data:\n",
      "(7, 'Learning')\n",
      "Runtime: 0.75 seconds, data:\n",
      "(0, 'Learning')\n",
      "(1, 'Ray')\n",
      "(2, 'Flexible')\n",
      "(3, 'Distributed')\n",
      "(4, 'Python')\n",
      "(5, 'for')\n",
      "(6, 'Machine')\n",
      "(7, 'Learning')\n"
     ]
    }
   ],
   "source": [
    "start = time.time()\n",
    "object_references = [\n",
    "    retrieve_task.remote(item, db_object_ref) for item in range(8)\n",
    "]\n",
    "all_data = []\n",
    "\n",
    "while len(object_references) > 0:\n",
    "    finished, object_references = ray.wait(\n",
    "        object_references, timeout=7.0\n",
    "    )\n",
    "    data = ray.get(finished)\n",
    "    print_runtime(data, start)\n",
    "    all_data.extend(data)\n",
    "\n",
    "print_runtime(all_data, start)\n"
   ],
   "metadata": {
    "collapsed": false,
    "ExecuteTime": {
     "end_time": "2024-03-14T14:31:23.075875Z",
     "start_time": "2024-03-14T14:31:22.323952Z"
    }
   },
   "id": "26525d72e2eff08f",
   "execution_count": 7
  },
  {
   "cell_type": "markdown",
   "source": [
    "# # Task Dependencies"
   ],
   "metadata": {
    "collapsed": false
   },
   "id": "e40c8e77157a3f6a"
  },
  {
   "cell_type": "code",
   "outputs": [
    {
     "name": "stdout",
     "output_type": "stream",
     "text": [
      "((0, 'Learning'), (1, 'Ray'))\n",
      "((2, 'Flexible'), (3, 'Distributed'))\n",
      "((4, 'Python'), (5, 'for'))\n",
      "((6, 'Machine'), (7, 'Learning'))\n"
     ]
    }
   ],
   "source": [
    "@ray.remote\n",
    "def follow_up_task(retrieve_result):\n",
    "    original_item, _ = retrieve_result\n",
    "    follow_up_result = retrieve(original_item + 1)\n",
    "    return retrieve_result, follow_up_result\n",
    "\n",
    "\n",
    "retrieve_refs = [retrieve_task.remote(item, db_object_ref) for item in [0, 2, 4, 6]]\n",
    "follow_up_refs = [follow_up_task.remote(ref) for ref in retrieve_refs]\n",
    "\n",
    "result = [print(data) for data in ray.get(follow_up_refs)]"
   ],
   "metadata": {
    "collapsed": false,
    "ExecuteTime": {
     "end_time": "2024-03-14T14:33:55.917648Z",
     "start_time": "2024-03-14T14:33:54.541741Z"
    }
   },
   "id": "dd1a0cd87f14802f",
   "execution_count": 8
  },
  {
   "cell_type": "markdown",
   "source": [
    "# # Ray Actors"
   ],
   "metadata": {
    "collapsed": false
   },
   "id": "670595ff011e71ec"
  },
  {
   "cell_type": "code",
   "outputs": [
    {
     "name": "stdout",
     "output_type": "stream",
     "text": [
      "[(0, 'Learning'), (1, 'Ray'), (2, 'Flexible'), (3, 'Distributed'), (4, 'Python'), (5, 'for'), (6, 'Machine'), (7, 'Learning')]\n",
      "8\n"
     ]
    }
   ],
   "source": [
    "@ray.remote\n",
    "class DataTracker:\n",
    "    def __init__(self):\n",
    "        self._counts = 0\n",
    "\n",
    "    def increment(self):\n",
    "        self._counts += 1\n",
    "\n",
    "    def counts(self):\n",
    "        return self._counts\n",
    "    \n",
    "\n",
    "@ray.remote\n",
    "def retrieve_tracker_task(item, tracker, db):\n",
    "    time.sleep(item / 10.)\n",
    "    tracker.increment.remote()\n",
    "    return item, db[item]\n",
    "\n",
    "\n",
    "tracker = DataTracker.remote()\n",
    "\n",
    "object_references = [\n",
    "    retrieve_tracker_task.remote(item, tracker, db_object_ref) for item in range(8)\n",
    "]\n",
    "data = ray.get(object_references)\n",
    "\n",
    "print(data)\n",
    "print(ray.get(tracker.counts.remote()))"
   ],
   "metadata": {
    "collapsed": false,
    "ExecuteTime": {
     "end_time": "2024-03-14T14:34:53.230977Z",
     "start_time": "2024-03-14T14:34:52.436351Z"
    }
   },
   "id": "c1e5991b3da14efe",
   "execution_count": 10
  },
  {
   "cell_type": "markdown",
   "source": [
    "# # Highly Parallel Example"
   ],
   "metadata": {
    "collapsed": false
   },
   "id": "9b741444ddb3cb47"
  },
  {
   "cell_type": "code",
   "outputs": [],
   "source": [
    "@ray.remote\n",
    "def pi4_sample(sample_count):\n",
    "    \"\"\"pi4_sample runs sample_count experiments, and returns the \n",
    "    fraction of time it was inside the circle. \n",
    "    \"\"\"\n",
    "    in_count = 0\n",
    "    for i in range(sample_count):\n",
    "        x = random.random()\n",
    "        y = random.random()\n",
    "        if x*x + y*y <= 1:\n",
    "            in_count += 1\n",
    "    return Fraction(in_count, sample_count)"
   ],
   "metadata": {
    "collapsed": false,
    "ExecuteTime": {
     "end_time": "2024-03-14T14:44:04.162473Z",
     "start_time": "2024-03-14T14:44:04.147423Z"
    }
   },
   "id": "4de45f0afebb2f5f",
   "execution_count": 22
  },
  {
   "cell_type": "code",
   "outputs": [
    {
     "name": "stdout",
     "output_type": "stream",
     "text": [
      "Running 1000000 tests took 0.3192629814147949 seconds\n"
     ]
    }
   ],
   "source": [
    "SAMPLE_COUNT = 1000 * 1000\n",
    "start = time.time() \n",
    "future = pi4_sample.remote(sample_count = SAMPLE_COUNT)\n",
    "pi4 = ray.get(future)\n",
    "end = time.time()\n",
    "dur = end - start\n",
    "print(f'Running {SAMPLE_COUNT} tests took {dur} seconds')"
   ],
   "metadata": {
    "collapsed": false,
    "ExecuteTime": {
     "end_time": "2024-03-14T14:44:04.925689Z",
     "start_time": "2024-03-14T14:44:04.603232Z"
    }
   },
   "id": "f1201a555f1830f5",
   "execution_count": 23
  },
  {
   "cell_type": "code",
   "outputs": [
    {
     "name": "stdout",
     "output_type": "stream",
     "text": [
      "3.14244\n",
      "0.0002696460108091184\n"
     ]
    }
   ],
   "source": [
    "pi = pi4 * 4\n",
    "print(float(pi))\n",
    "print(abs(pi-math.pi)/pi)\n"
   ],
   "metadata": {
    "collapsed": false,
    "ExecuteTime": {
     "end_time": "2024-03-14T14:44:04.930108Z",
     "start_time": "2024-03-14T14:44:04.927337Z"
    }
   },
   "id": "63805d026b784086",
   "execution_count": 24
  },
  {
   "cell_type": "code",
   "outputs": [
    {
     "name": "stdout",
     "output_type": "stream",
     "text": [
      "Doing 100000 batches\n"
     ]
    }
   ],
   "source": [
    "FULL_SAMPLE_COUNT = 100 * 1000 * 1000 * 1000 # 100 billion samples! \n",
    "BATCHES = int(FULL_SAMPLE_COUNT / SAMPLE_COUNT)\n",
    "print(f'Doing {BATCHES} batches')\n",
    "results = []\n",
    "for _ in range(BATCHES):\n",
    "    results.append(pi4_sample.remote(sample_count = SAMPLE_COUNT))\n",
    "output = ray.get(results)"
   ],
   "metadata": {
    "collapsed": false,
    "is_executing": true,
    "ExecuteTime": {
     "start_time": "2024-03-14T14:44:05.609041Z"
    }
   },
   "id": "51411e5ce6fb129c",
   "execution_count": null
  },
  {
   "cell_type": "code",
   "outputs": [],
   "source": [],
   "metadata": {
    "collapsed": false
   },
   "id": "9434068bdb645d6a"
  }
 ],
 "metadata": {
  "kernelspec": {
   "display_name": "Python 3",
   "language": "python",
   "name": "python3"
  },
  "language_info": {
   "codemirror_mode": {
    "name": "ipython",
    "version": 2
   },
   "file_extension": ".py",
   "mimetype": "text/x-python",
   "name": "python",
   "nbconvert_exporter": "python",
   "pygments_lexer": "ipython2",
   "version": "2.7.6"
  }
 },
 "nbformat": 4,
 "nbformat_minor": 5
}
